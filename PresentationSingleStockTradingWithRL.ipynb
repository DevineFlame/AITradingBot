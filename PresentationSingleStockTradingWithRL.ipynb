{
  "nbformat": 4,
  "nbformat_minor": 0,
  "metadata": {
    "colab": {
      "provenance": []
    },
    "kernelspec": {
      "name": "python3",
      "display_name": "Python 3"
    },
    "language_info": {
      "name": "python"
    },
    "accelerator": "GPU",
    "gpuClass": "standard"
  },
  "cells": [
    {
      "cell_type": "code",
      "execution_count": null,
      "metadata": {
        "id": "gl4M-KwM-WJE"
      },
      "outputs": [],
      "source": [
        "!pip install setuptools==64.0.2\n",
        "!apt-get install swig\n",
        "!pip install wrds\n",
        "!pip install git+https://github.com/AI4Finance-LLC/FinRL-Library.git\n",
        "!pip install git+https://github.com/AI4Finance-Foundation/FinRL.git\n",
        "\n"
      ]
    },
    {
      "cell_type": "code",
      "source": [
        "import warnings\n",
        "warnings.filterwarnings(\"ignore\")"
      ],
      "metadata": {
        "id": "HH447atC-juX"
      },
      "execution_count": 2,
      "outputs": []
    },
    {
      "cell_type": "code",
      "source": [
        "import pandas as pd\n",
        "import numpy as np\n",
        "import matplotlib\n",
        "import matplotlib.pyplot as plt\n",
        "# matplotlib.use('Agg')\n",
        "import datetime\n",
        "\n",
        "%matplotlib inline\n",
        "from finrl.config_tickers import DOW_30_TICKER\n",
        "from finrl.meta.preprocessor.yahoodownloader import YahooDownloader\n",
        "from finrl.meta.preprocessor.preprocessors import FeatureEngineer, data_split\n",
        "from finrl.meta.env_stock_trading.env_stocktrading import StockTradingEnv\n",
        "from finrl.agents.stablebaselines3.models import DRLAgent,DRLEnsembleAgent\n",
        "from finrl.plot import backtest_stats, backtest_plot, get_daily_return, get_baseline\n",
        "from stable_baselines3.common.logger import configure\n",
        "from finrl.meta.data_processor import DataProcessor\n",
        "from pprint import pprint\n",
        "\n",
        "import sys\n",
        "sys.path.append(\"../FinRL\")\n",
        "\n",
        "import itertools\n",
        "\n",
        "from finrl import config\n",
        "from finrl import config_tickers\n",
        "import os\n",
        "from finrl.main import check_and_make_directories\n",
        "from finrl.config import (\n",
        "  DATA_SAVE_DIR,\n",
        "  TRAINED_MODEL_DIR,\n",
        "  TENSORBOARD_LOG_DIR,\n",
        "  RESULTS_DIR,\n",
        "  INDICATORS,\n",
        "  TRAIN_START_DATE,\n",
        "  TRAIN_END_DATE,\n",
        "  TEST_START_DATE,\n",
        "  TEST_END_DATE,\n",
        "  TRADE_START_DATE,\n",
        "  TRADE_END_DATE,\n",
        ")\n",
        "\n"
      ],
      "metadata": {
        "id": "V1eKk2yS-m22"
      },
      "execution_count": 3,
      "outputs": []
    },
    {
      "cell_type": "code",
      "source": [
        "\n",
        "check_and_make_directories([DATA_SAVE_DIR, TRAINED_MODEL_DIR, TENSORBOARD_LOG_DIR, RESULTS_DIR])\n",
        "\n"
      ],
      "metadata": {
        "id": "ur7h4aKpAsGK"
      },
      "execution_count": 4,
      "outputs": []
    },
    {
      "cell_type": "code",
      "source": [
        "def load_data(ticker,START_DATE,END_DATE):\n",
        "  df = YahooDownloader(start_date=START_DATE,\n",
        "                      end_date=END_DATE,\n",
        "                      ticker_list=ticker).fetch_data()\n",
        "\n",
        "                      \n",
        "  return df\n"
      ],
      "metadata": {
        "id": "7jkXpIIM-fxV"
      },
      "execution_count": 5,
      "outputs": []
    },
    {
      "cell_type": "code",
      "source": [
        "def prepare_it(df): \n",
        "  df.sort_values(['date', 'tic'], ignore_index=True).head()\n",
        "  list_ticker = df[\"tic\"].unique().tolist()\n",
        "  fe = FeatureEngineer(\n",
        "      use_technical_indicator=True,\n",
        "      tech_indicator_list=INDICATORS,\n",
        "      use_vix=True,\n",
        "      use_turbulence=True,\n",
        "      user_defined_feature=False)\n",
        "\n",
        "  processed = fe.preprocess_data(df)\n",
        "  \n",
        "  list_date = list(pd.date_range(processed['date'].min(), processed['date'].max()).astype(str))\n",
        "  \n",
        "  combination = list(itertools.product(list_date, list_ticker))\n",
        "\n",
        "  processed_full = pd.DataFrame(combination, columns=[\"date\", \"tic\"]).merge(processed, on=[\"date\", \"tic\"], how=\"left\")\n",
        "  processed_full = processed_full[processed_full['date'].isin(processed['date'])]\n",
        "  processed_full = processed_full.sort_values(['date', 'tic'])\n",
        "\n",
        "  processed_full = processed_full.fillna(0)\n",
        "\n",
        "  processed_full.sort_values(['date', 'tic'], ignore_index=True).head(10)\n",
        "  mvo_df = processed_full.sort_values(['date', 'tic'], ignore_index=True)[['date', 'tic', 'close']]\n",
        "\n",
        "  return processed_full\n",
        "\n"
      ],
      "metadata": {
        "id": "b2Qwpi2EANxJ"
      },
      "execution_count": 6,
      "outputs": []
    },
    {
      "cell_type": "code",
      "source": [
        "def get_train_test_data(processed_df,TRAIN_START_DATE,TRAIN_END_DATE,TEST_START_DATE,TEST_END_DATE):\n",
        "    train = data_split(processed_df, TRAIN_START_DATE, TRAIN_END_DATE)\n",
        "    test = data_split(processed_df, TEST_START_DATE, TEST_END_DATE)\n",
        "    print(len(train))\n",
        "    print(len(test))\n",
        "    return train,test\n",
        "\n"
      ],
      "metadata": {
        "id": "sO_U7BQZDUmM"
      },
      "execution_count": 7,
      "outputs": []
    },
    {
      "cell_type": "code",
      "source": [
        "def get_env_args(df):\n",
        "    stock_dimension = len(df.tic.unique())\n",
        "    state_space = 1 + 2 * stock_dimension + len(INDICATORS) * stock_dimension\n",
        "    print(f\"Stock Dimension: {stock_dimension}, State Space: {state_space}\")\n",
        "\n",
        "    buy_cost_list = sell_cost_list = [0.001] * stock_dimension\n",
        "    num_stock_shares = [0] * stock_dimension\n",
        "\n",
        "    env_kwargs = {\n",
        "          \"hmax\": 100,\n",
        "          \"initial_amount\": 1000000,\n",
        "          \"num_stock_shares\": num_stock_shares,\n",
        "          \"buy_cost_pct\": buy_cost_list,\n",
        "          \"sell_cost_pct\": sell_cost_list,\n",
        "          \"state_space\": state_space,\n",
        "          \"stock_dim\": stock_dimension,\n",
        "          \"tech_indicator_list\": INDICATORS,\n",
        "          \"action_space\": stock_dimension,\n",
        "          \"reward_scaling\": 1e-4\n",
        "      }\n",
        "\n",
        "    return env_kwargs\n",
        "\n"
      ],
      "metadata": {
        "id": "q_TE_US7Qptf"
      },
      "execution_count": 8,
      "outputs": []
    },
    {
      "cell_type": "code",
      "source": [
        "def train_model(model_name,df):\n",
        "  ppo_model_path = '/content/trained_models/ppo.zip'\n",
        "  if os.path.isfile(ppo_model_path)   :\n",
        "    print(\"model is already trained..\")\n",
        "    return \n",
        "  env_kwargs = get_env_args(df)\n",
        "  e_train_gym = StockTradingEnv(df=train, **env_kwargs)\n",
        "  env_train, _ = e_train_gym.get_sb_env()\n",
        "  agent = DRLAgent(env=env_train)\n",
        "\n",
        "  if model_name == 'ppo':\n",
        "      PPO_PARAMS = {\n",
        "            \"n_steps\": 1024,\n",
        "            \"ent_coef\": 0.01,\n",
        "            \"learning_rate\": 0.00025,\n",
        "            \"batch_size\": 128,\n",
        "        }\n",
        "      model_ppo = agent.get_model(\"ppo\", model_kwargs=PPO_PARAMS)\n",
        "\n",
        "      # set up logger\n",
        "      tmp_path = RESULTS_DIR + '/ppo'\n",
        "      new_logger_ppo = configure(tmp_path, [\"stdout\", \"csv\", \"tensorboard\"])\n",
        "      # Set new logger\n",
        "      model_ppo.set_logger(new_logger_ppo)\n",
        "\n",
        "      trained_ppo = agent.train_model(model=model_ppo,\n",
        "                                      tb_log_name='ppo',\n",
        "                                      total_timesteps=5024) \n",
        "      trained_ppo.save(ppo_model_path) "
      ],
      "metadata": {
        "id": "XI6DaHVQ-5Jv"
      },
      "execution_count": 9,
      "outputs": []
    },
    {
      "cell_type": "code",
      "source": [
        "def getTradingEnv(df):\n",
        "  env_kwargs = get_env_args(df)\n",
        "  e_trade_gym = StockTradingEnv(df=df, turbulence_threshold=70, risk_indicator_col='vix', **env_kwargs,make_plots=True) \n",
        " \n",
        "  return e_trade_gym"
      ],
      "metadata": {
        "id": "W2E9sa4OBs5i"
      },
      "execution_count": 10,
      "outputs": []
    },
    {
      "cell_type": "code",
      "source": [
        "def get_model():\n",
        "  model_path = \"/content/trained_models/ppo.zip\"\n",
        "  model = PPO.load(model_path) \n",
        "  return model"
      ],
      "metadata": {
        "id": "3lIMnRf9B-HM"
      },
      "execution_count": 11,
      "outputs": []
    },
    {
      "cell_type": "code",
      "source": [
        "def test_model(model_name,df):\n",
        "  model_path = \"/content/trained_models/ppo.zip\"\n",
        "  model = PPO.load(model_path)  \n",
        "\n",
        "  env_kwargs = get_env_args(df)\n",
        "  e_trade_gym = StockTradingEnv(df=df, turbulence_threshold=70, risk_indicator_col='vix', **env_kwargs) \n",
        "  df_account_value, df_actions_ppo = DRLAgent.DRL_prediction(\n",
        "                                                      model=model,\n",
        "                                                      environment=e_trade_gym)\n",
        "  sharpe=(252**0.5)*df_account_value.account_value.pct_change(1).mean()/df_account_value.account_value.pct_change(1).std()\n",
        "  print('Sharpe Ratio: ',sharpe)\n",
        "  print(\"==============Get Backtest Results===========\")\n",
        "  now = datetime.datetime.now().strftime('%Y%m%d-%Hh%M')\n",
        "\n",
        "  perf_stats_all = backtest_stats(account_value=df_account_value)\n",
        "  perf_stats_all = pd.DataFrame(perf_stats_all)\n",
        "  #baseline stats\n",
        "  print(\"==============Get Baseline Stats===========\")\n",
        "  baseline_df = get_baseline(\n",
        "          ticker=\"^DJI\", \n",
        "          start = df_account_value.loc[0,'date'],\n",
        "          end = df_account_value.loc[len(df_account_value)-1,'date'])\n",
        "\n",
        "  stats = backtest_stats(baseline_df, value_col_name = 'close')\n",
        "  print(\"==============Compare to DJIA===========\")\n",
        "  %matplotlib inline\n",
        "  # S&P 500: ^GSPC\n",
        "  # Dow Jones Index: ^DJI\n",
        "  # NASDAQ 100: ^NDX\n",
        "  backtest_plot(df_account_value, \n",
        "              baseline_ticker = '^DJI', \n",
        "              baseline_start = df_account_value.loc[0,'date'],\n",
        "              baseline_end = df_account_value.loc[len(df_account_value)-1,'date'])\n"
      ],
      "metadata": {
        "id": "2Eh2G059EBXX"
      },
      "execution_count": 12,
      "outputs": []
    },
    {
      "cell_type": "code",
      "source": [
        "from stable_baselines3 import PPO\n",
        "def init_and_process(ticker):\n",
        "  TRAIN_START_DATE = '2010-01-01'\n",
        "  TRAIN_END_DATE = '2022-10-01'\n",
        "  TEST_START_DATE = '2022-04-01'\n",
        "  TEST_END_DATE = '2023-04-20'\n",
        "\n",
        "  df = load_data(ticker,TRAIN_START_DATE,TEST_END_DATE)\n",
        "  df.head()\n",
        "  processed = prepare_it(df)\n",
        "  train,test = get_train_test_data(processed,TRAIN_START_DATE,TRAIN_END_DATE,TEST_START_DATE,TEST_END_DATE)\n",
        "  \n",
        "  return train,test\n",
        "  \n",
        "\n"
      ],
      "metadata": {
        "id": "zz7oWy86BGk_"
      },
      "execution_count": 13,
      "outputs": []
    },
    {
      "cell_type": "code",
      "source": [
        "train,test = init_and_process(['IBM'])"
      ],
      "metadata": {
        "colab": {
          "base_uri": "https://localhost:8080/"
        },
        "id": "Q49h5OsuK794",
        "outputId": "3373e61a-5ebe-4fd4-b4b2-e84c45d23774"
      },
      "execution_count": 14,
      "outputs": [
        {
          "output_type": "stream",
          "name": "stdout",
          "text": [
            "\r[*********************100%***********************]  1 of 1 completed\n",
            "Shape of DataFrame:  (3346, 8)\n",
            "Successfully added technical indicators\n",
            "[*********************100%***********************]  1 of 1 completed\n",
            "Shape of DataFrame:  (3345, 8)\n",
            "Successfully added vix\n",
            "Successfully added turbulence index\n",
            "3209\n",
            "262\n"
          ]
        }
      ]
    },
    {
      "cell_type": "code",
      "source": [
        "train_model('ppo',train)"
      ],
      "metadata": {
        "id": "5mqEBTKo9SpK"
      },
      "execution_count": null,
      "outputs": []
    },
    {
      "cell_type": "code",
      "source": [
        "test_model('ppo',test)"
      ],
      "metadata": {
        "id": "gdKg9aof7YsD"
      },
      "execution_count": null,
      "outputs": []
    },
    {
      "cell_type": "code",
      "source": [
        "#!cp -r \"/content/trained_models\"  \"/content/drive/MyDrive\""
      ],
      "metadata": {
        "id": "vRvqvg3U_IQD"
      },
      "execution_count": 18,
      "outputs": []
    },
    {
      "cell_type": "code",
      "source": [
        "env = getTradingEnv(test)"
      ],
      "metadata": {
        "colab": {
          "base_uri": "https://localhost:8080/"
        },
        "id": "Q5SjTcF2Dbyi",
        "outputId": "9070e008-63bf-4f7d-a93a-3f4dd8f27ef4"
      },
      "execution_count": 23,
      "outputs": [
        {
          "output_type": "stream",
          "name": "stdout",
          "text": [
            "Stock Dimension: 1, State Space: 11\n"
          ]
        }
      ]
    },
    {
      "cell_type": "code",
      "source": [
        "import matplotlib.pyplot as plt\n",
        "def plt_graph(graph,df):\n",
        "  x = df['date']\n",
        "  y1 = graph[\"pf\"]\n",
        "  y2 = graph[\"pos\"]\n",
        "  y3 = graph[\"price\"]\n",
        "\n",
        "  # Create the subplots\n",
        "  fig, (ax1, ax2, ax3) = plt.subplots(1, 3, figsize=(15,5))\n",
        "\n",
        "  # Plot the data in each subplot\n",
        "  ax1.plot(x, y1)\n",
        "  ax1.set_title('Portfolio value')\n",
        "  ax2.plot(x, y2)\n",
        "  ax2.set_title('Stock Holding')\n",
        "  ax3.plot(x, y3)\n",
        "  ax3.set_title('stock price')\n",
        "\n",
        "  # Add a common x-label and y-label\n",
        "  fig.text(0.5, 0.04, 'X-axis', ha='center')\n",
        "  fig.text(0.04, 0.5, 'Y-axis', va='center', rotation='vertical')\n",
        "\n",
        "  # Show the plot\n",
        "  plt.show()"
      ],
      "metadata": {
        "id": "RNwy6wFgOz2i"
      },
      "execution_count": 36,
      "outputs": []
    },
    {
      "cell_type": "code",
      "source": [
        "def map_action(action):\n",
        "    if action > 0.5:\n",
        "        return \"buy\"\n",
        "    elif action < -0.5:\n",
        "        return \"sell\"\n",
        "    else:\n",
        "        return \"hold\""
      ],
      "metadata": {
        "id": "qeflT5MqDt4P"
      },
      "execution_count": 19,
      "outputs": []
    },
    {
      "cell_type": "code",
      "source": [
        "import time\n",
        "start_time = time.time()\n",
        "TEST_START_DATE = '2023-04-01'\n",
        "TEST_END_DATE = '2023-04-15'\n",
        "trade_test = data_split(test, TEST_START_DATE, TEST_END_DATE)\n",
        "env = getTradingEnv(trade_test)\n",
        "obs = env.reset()\n",
        "env.current_step=0\n",
        "done = False\n",
        "info= {}\n",
        "graph = {\"pf\":[],\"price\": [] , \"pos\":[]}\n",
        "trained_model = get_model()\n",
        "while not done:\n",
        "    action, _states = trained_model.predict(obs)\n",
        "    #actions = action * 100  # actions initially is scaled between 0 to 1\n",
        "    #actions = actions.astype(int) # convert into integer because we can't by fraction of shares\n",
        "    rl_action = map_action(action)  \n",
        "    #print(actions)\n",
        "    # print(\"current action by RL :\" + rl_action)\n",
        "    # user_action = input (\"want to override buy:1 sell: 2 :\") \n",
        "    # if user_action == 1:\n",
        "    #     action = 1\n",
        "    # elif user_action == 2:\n",
        "    #     action  = -1\n",
        "\n",
        "    \n",
        "\n",
        "      \n",
        "    obs, rewards, done, info = env.step(action)\n",
        "    x = env.render(mode='rgb_array')\n",
        "    graph[\"pf\"].append(x[0])\n",
        "    graph[\"price\"].append(x[1])\n",
        "    graph[\"pos\"].append(x[2])\n",
        "    #print(x[0],x[1],x[2])\n",
        "    \n",
        "    \n",
        "    if done :\n",
        "      print(info)\n",
        "\n",
        "print(f\"--- running time: {(time.time() - start_time)}---\")\n",
        "\n",
        "\n"
      ],
      "metadata": {
        "colab": {
          "base_uri": "https://localhost:8080/"
        },
        "id": "DitQwzAXS4Xj",
        "outputId": "4b8d1b70-615f-4105-bba1-e731ee17f77e"
      },
      "execution_count": 33,
      "outputs": [
        {
          "output_type": "stream",
          "name": "stdout",
          "text": [
            "Stock Dimension: 1, State Space: 11\n",
            "{}\n",
            "--- running time: 0.23775267601013184---\n"
          ]
        }
      ]
    },
    {
      "cell_type": "code",
      "source": [
        "%matplotlib inline\n",
        "plt_graph(graph,trade_test)"
      ],
      "metadata": {
        "colab": {
          "base_uri": "https://localhost:8080/",
          "height": 482
        },
        "id": "JLEVGr4DQ3rJ",
        "outputId": "a2bf3e48-4cad-4b26-deb8-9baac580110c"
      },
      "execution_count": 37,
      "outputs": [
        {
          "output_type": "display_data",
          "data": {
            "text/plain": [
              "<Figure size 1500x500 with 3 Axes>"
            ],
            "image/png": "[encoded data removed]"
          },
          "metadata": {}
        }
      ]
    },
    {
      "cell_type": "code",
      "source": [
        "import time\n",
        "import alpaca_trade_api as tradeapi\n",
        "\n",
        "# define Alpaca API credentials\n",
        "api_key = 'XX'\n",
        "api_secret = 'XX'\n",
        "base_url = 'https://paper-api.alpaca.markets'\n",
        "\n",
        "# instantiate Alpaca API object\n",
        "api = tradeapi.REST(api_key, api_secret, base_url, api_version='v2')\n",
        "\n",
        "# set up trading parameters\n",
        "SYMBOL = 'IBM'  # example stock symbol\n",
        "ORDER_QTY = 10  # example order quantity\n",
        "\n",
        "start_time = time.time()\n",
        "TEST_START_DATE = '2023-04-01'\n",
        "TEST_END_DATE = '2023-04-15'\n",
        "\n",
        "# split data for testing\n",
        "trade_test = data_split(test, TEST_START_DATE, TEST_END_DATE)\n",
        "\n",
        "# create trading environment\n",
        "env = getTradingEnv(trade_test)\n",
        "obs = env.reset()\n",
        "env.current_step = 0\n",
        "done = False\n",
        "info = {}\n",
        "graph = {\"pf\": [], \"price\": [], \"pos\": []}\n",
        "\n",
        "# get trained PPO model\n",
        "trained_model = get_model()\n",
        "\n",
        "# start paper trading loop\n",
        "while not done:\n",
        "    # predict action using PPO model\n",
        "    action, _states = trained_model.predict(obs)\n",
        "    # map PPO action to buy/sell order\n",
        "    rl_action = map_action(action)\n",
        "    # get current stock price\n",
        "    current_price = last_trade = api.get_latest_trade(symbol=SYMBOL).p\n",
        "\n",
        "    # submit buy/sell order based on PPO action\n",
        "    if rl_action == \"buy\":\n",
        "        order = api.submit_order(\n",
        "            symbol=SYMBOL,\n",
        "            qty=ORDER_QTY,\n",
        "            side='buy',\n",
        "            type='limit',\n",
        "            time_in_force='gtc',\n",
        "            limit_price=current_price\n",
        "        )\n",
        "        print(f\"BUY {ORDER_QTY} shares of {SYMBOL} at {current_price}\")\n",
        "    elif rl_action == \"sell\":\n",
        "        order = api.submit_order(\n",
        "            symbol=SYMBOL,\n",
        "            qty=ORDER_QTY,\n",
        "            side='sell',\n",
        "            type='limit',\n",
        "            time_in_force='gtc',\n",
        "            limit_price=current_price\n",
        "        )\n",
        "        print(f\"SELL {ORDER_QTY} shares of {SYMBOL} at {current_price}\")\n",
        "    else:\n",
        "        print(\"HOLD position\")\n",
        "\n",
        "    # step the trading environment and get next observation\n",
        "    obs, rewards, done, info = env.step(action)\n",
        "    \n",
        "    # add data for plotting to graph dictionary\n",
        "    x = env.render(mode='rgb_array')\n",
        "    graph[\"pf\"].append(x[0])\n",
        "    graph[\"price\"].append(x[1])\n",
        "    graph[\"pos\"].append(x[2])\n",
        "    \n",
        "    # print current portfolio value and cash balance\n",
        "    portfolio_value = api.get_account().portfolio_value\n",
        "    cash_balance = api.get_account().cash\n",
        "    print(f\"Portfolio Value: ${portfolio_value}, Cash Balance: ${cash_balance}\")\n",
        "\n",
        "    # wait for a few seconds before next iteration\n",
        "    time.sleep(5)\n",
        "\n",
        "print(f\"--- running time: {(time.time() - start_time)}---\")\n"
      ],
      "metadata": {
        "id": "xclEM5mrereR"
      },
      "execution_count": null,
      "outputs": []
    }
  ]
}